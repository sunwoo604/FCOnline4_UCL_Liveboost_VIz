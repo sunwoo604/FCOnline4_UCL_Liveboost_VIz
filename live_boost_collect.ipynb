{
 "cells": [
  {
   "cell_type": "code",
   "execution_count": 1,
   "id": "31a96528",
   "metadata": {},
   "outputs": [],
   "source": [
    "import requests\n",
    "import time"
   ]
  },
  {
   "cell_type": "code",
   "execution_count": 2,
   "id": "15df9f5c",
   "metadata": {},
   "outputs": [],
   "source": [
    "from selenium import webdriver \n",
    "from selenium.webdriver import Chrome \n",
    "from selenium.webdriver.chrome.service import Service \n",
    "from selenium.webdriver.common.by import By \n",
    "from webdriver_manager.chrome import ChromeDriverManager"
   ]
  },
  {
   "cell_type": "code",
   "execution_count": 3,
   "id": "a951d883",
   "metadata": {},
   "outputs": [
    {
     "data": {
      "text/plain": [
       "'/Users/sunwoo/opt/anaconda3/bin/python'"
      ]
     },
     "execution_count": 3,
     "metadata": {},
     "output_type": "execute_result"
    }
   ],
   "source": [
    "import sys\n",
    "sys.executable"
   ]
  },
  {
   "cell_type": "code",
   "execution_count": 11,
   "id": "12bdafed",
   "metadata": {},
   "outputs": [
    {
     "name": "stderr",
     "output_type": "stream",
     "text": [
      "/var/folders/32/4hkbkvvs1lg8nc4zqtqfdf1r0000gn/T/ipykernel_17505/3638504904.py:2: DeprecationWarning: headless property is deprecated, instead use add_argument('--headless') or add_argument('--headless=new')\n",
      "  options.headless = True # it's more scalable to work in headless mode\n"
     ]
    }
   ],
   "source": [
    "options = webdriver.ChromeOptions() \n",
    "options.headless = True # it's more scalable to work in headless mode \n",
    "# normally, selenium waits for all resources to download \n",
    "# we don't need it as the page also populated with the running javascript code. \n",
    "options.page_load_strategy = 'none' \n",
    "# this returns the path web driver downloaded \n",
    "chrome_path = ChromeDriverManager().install() \n",
    "chrome_service = Service(chrome_path) \n",
    "# pass the defined options and service objects to initialize the web driver \n",
    "driver = Chrome(options=options, service=chrome_service) \n",
    "driver.implicitly_wait(5)"
   ]
  },
  {
   "cell_type": "code",
   "execution_count": 5,
   "id": "ca0e1ff5",
   "metadata": {},
   "outputs": [],
   "source": [
    "teams = ['Man_City','Chelsea','Bayern','Inter','AC Milan','Napoli','Real Madrid','Benfica']\n",
    "urls =[]\n",
    "with open('team_url.txt') as f:\n",
    "    lines = f.readlines()\n",
    "    for l in lines:\n",
    "        urls.append(l)"
   ]
  },
  {
   "cell_type": "code",
   "execution_count": 6,
   "id": "5d44732b",
   "metadata": {},
   "outputs": [],
   "source": [
    "teams2 = ['Liverpool','Spurs','Brugge','Dourtmund','Frankfurt','Leipzig','Porto','PSG']\n",
    "urls2 =[]\n",
    "with open('team_url2.txt') as f:\n",
    "    lines = f.readlines()\n",
    "    for l in lines:\n",
    "        urls2.append(l)"
   ]
  },
  {
   "cell_type": "code",
   "execution_count": 7,
   "id": "cf0d6c94",
   "metadata": {},
   "outputs": [],
   "source": [
    "def playerNum(p):\n",
    "    return p.get_attribute('onclick').split(\"'\")[3]\n",
    "def playerName(p):\n",
    "    return p.find_element(By.CLASS_NAME,'name').get_attribute('innerHTML')\n",
    "def playerOverall(p):\n",
    "    temp = p.find_element(By.CLASS_NAME, \"skillData_\"+playerNum(p))\n",
    "    return int(temp.get_attribute(\"innerHTML\"))\n",
    "def playerBoost(p):\n",
    "    boost = 0\n",
    "    for i in p.find_elements(By.TAG_NAME, \"span\"):\n",
    "        if i.get_attribute('class') == 'live up':\n",
    "            boost = int(i.find_element(By.TAG_NAME, \"i\").get_attribute('innerHTML'))\n",
    "            break\n",
    "        elif i.get_attribute('class') == 'live down':\n",
    "            boost = int(i.find_element(By.TAG_NAME, \"i\").get_attribute('innerHTML'))\n",
    "            break\n",
    "    return boost"
   ]
  },
  {
   "cell_type": "code",
   "execution_count": 12,
   "id": "5028dfe5",
   "metadata": {},
   "outputs": [
    {
     "name": "stdout",
     "output_type": "stream",
     "text": [
      "Man_City\n",
      "Chelsea\n",
      "Bayern\n",
      "Inter\n",
      "AC Milan\n",
      "Napoli\n",
      "Real Madrid\n",
      "Benfica\n"
     ]
    }
   ],
   "source": [
    "names=[]\n",
    "ovrs=[]\n",
    "boosts =[]\n",
    "for team,url in zip(teams,urls):\n",
    "    driver.get(url) \n",
    "    time.sleep(20)\n",
    "    table = driver.find_element(By.ID,\"divPlayerList\")\n",
    "    players = table.find_elements(By.CLASS_NAME, \"tr\")\n",
    "    print(team)\n",
    "    ns = []\n",
    "    ovs = []\n",
    "    bs=[]\n",
    "    for i in players:\n",
    "        ns.append(playerName(i))\n",
    "        ovs.append(playerOverall(i))\n",
    "        bs.append(playerBoost(i))\n",
    "    names.append(ns)\n",
    "    ovrs.append(ovs)\n",
    "    boosts.append(bs)"
   ]
  },
  {
   "cell_type": "code",
   "execution_count": 13,
   "id": "88a9f541",
   "metadata": {},
   "outputs": [],
   "source": [
    "names2=[]\n",
    "ovrs2=[]\n",
    "boosts2 =[]\n",
    "for url in urls2:\n",
    "    driver.get(url) \n",
    "    time.sleep(20)\n",
    "    table = driver.find_element(By.ID,\"divPlayerList\")\n",
    "    players = table.find_elements(By.CLASS_NAME, \"tr\")\n",
    "    ns = []\n",
    "    ovs = []\n",
    "    bs=[]\n",
    "    for i in players:\n",
    "        ns.append(playerName(i))\n",
    "        ovs.append(playerOverall(i))\n",
    "        bs.append(playerBoost(i))\n",
    "    names2.append(ns)\n",
    "    ovrs2.append(ovs)\n",
    "    boosts2.append(bs)"
   ]
  },
  {
   "cell_type": "code",
   "execution_count": 14,
   "id": "360feba0",
   "metadata": {},
   "outputs": [],
   "source": [
    "datas=[]\n",
    "for players,team,overalls,bsts in zip(names,teams,ovrs,boosts):\n",
    "    for player,overall,boost in zip(players,overalls,bsts):\n",
    "        temp = [player,team,overall,boost]\n",
    "        datas.append(temp)\n",
    "for players,team,overalls,bsts in zip(names2,teams,ovrs,boosts):\n",
    "    for player,overall,boost in zip(players,overalls,bsts):\n",
    "        temp = [player,team,overall,boost]\n",
    "        datas.append(temp)"
   ]
  },
  {
   "cell_type": "code",
   "execution_count": 15,
   "id": "3ffa7073",
   "metadata": {},
   "outputs": [
    {
     "data": {
      "text/plain": [
       "349"
      ]
     },
     "execution_count": 15,
     "metadata": {},
     "output_type": "execute_result"
    }
   ],
   "source": [
    "len(datas)"
   ]
  },
  {
   "cell_type": "code",
   "execution_count": 16,
   "id": "a8e680b4",
   "metadata": {},
   "outputs": [],
   "source": [
    "import pandas as pd"
   ]
  },
  {
   "cell_type": "code",
   "execution_count": 17,
   "id": "dfc5b1ba",
   "metadata": {},
   "outputs": [
    {
     "data": {
      "text/html": [
       "<div>\n",
       "<style scoped>\n",
       "    .dataframe tbody tr th:only-of-type {\n",
       "        vertical-align: middle;\n",
       "    }\n",
       "\n",
       "    .dataframe tbody tr th {\n",
       "        vertical-align: top;\n",
       "    }\n",
       "\n",
       "    .dataframe thead th {\n",
       "        text-align: right;\n",
       "    }\n",
       "</style>\n",
       "<table border=\"1\" class=\"dataframe\">\n",
       "  <thead>\n",
       "    <tr style=\"text-align: right;\">\n",
       "      <th></th>\n",
       "      <th>name</th>\n",
       "      <th>team</th>\n",
       "      <th>ovr</th>\n",
       "      <th>boost</th>\n",
       "      <th>og_ovr</th>\n",
       "    </tr>\n",
       "  </thead>\n",
       "  <tbody>\n",
       "    <tr>\n",
       "      <th>0</th>\n",
       "      <td>엘링 홀란</td>\n",
       "      <td>Man_City</td>\n",
       "      <td>110</td>\n",
       "      <td>1</td>\n",
       "      <td>109</td>\n",
       "    </tr>\n",
       "    <tr>\n",
       "      <th>1</th>\n",
       "      <td>후벵 디아스</td>\n",
       "      <td>Man_City</td>\n",
       "      <td>109</td>\n",
       "      <td>2</td>\n",
       "      <td>107</td>\n",
       "    </tr>\n",
       "    <tr>\n",
       "      <th>2</th>\n",
       "      <td>케빈 더브라위너</td>\n",
       "      <td>Man_City</td>\n",
       "      <td>108</td>\n",
       "      <td>1</td>\n",
       "      <td>107</td>\n",
       "    </tr>\n",
       "    <tr>\n",
       "      <th>3</th>\n",
       "      <td>리야드 마레즈</td>\n",
       "      <td>Man_City</td>\n",
       "      <td>108</td>\n",
       "      <td>0</td>\n",
       "      <td>108</td>\n",
       "    </tr>\n",
       "    <tr>\n",
       "      <th>4</th>\n",
       "      <td>로드리</td>\n",
       "      <td>Man_City</td>\n",
       "      <td>107</td>\n",
       "      <td>2</td>\n",
       "      <td>105</td>\n",
       "    </tr>\n",
       "  </tbody>\n",
       "</table>\n",
       "</div>"
      ],
      "text/plain": [
       "       name      team  ovr  boost  og_ovr\n",
       "0     엘링 홀란  Man_City  110      1     109\n",
       "1    후벵 디아스  Man_City  109      2     107\n",
       "2  케빈 더브라위너  Man_City  108      1     107\n",
       "3   리야드 마레즈  Man_City  108      0     108\n",
       "4       로드리  Man_City  107      2     105"
      ]
     },
     "execution_count": 17,
     "metadata": {},
     "output_type": "execute_result"
    }
   ],
   "source": [
    "dataset = pd.DataFrame(datas)\n",
    "dataset.columns = ['name','team','ovr','boost']\n",
    "dataset['og_ovr'] = dataset['ovr']- dataset['boost']\n",
    "dataset.head()"
   ]
  },
  {
   "cell_type": "code",
   "execution_count": 18,
   "id": "87b28072",
   "metadata": {},
   "outputs": [],
   "source": [
    "dataset.to_csv('players.csv')"
   ]
  },
  {
   "cell_type": "code",
   "execution_count": 62,
   "id": "fe8f25db",
   "metadata": {},
   "outputs": [],
   "source": [
    "driver.get(\"https://fbref.com/en/matches/9b5a5b22/Manchester-City-Bayern-Munich-April-11-2023-Champions-League\")\n",
    "time.sleep(20)"
   ]
  },
  {
   "cell_type": "code",
   "execution_count": 92,
   "id": "9dbecfb0",
   "metadata": {},
   "outputs": [],
   "source": [
    "playerTable = driver.find_elements(By.CLASS_NAME,\"switcher_content\")\n",
    "playerTable = playerTable[:2]"
   ]
  },
  {
   "cell_type": "code",
   "execution_count": 81,
   "id": "35741e69",
   "metadata": {},
   "outputs": [],
   "source": [
    "i = playerTable[0]\n",
    "teamNum = i.get_attribute(\"id\").split('_')[-1]\n",
    "table = i.find_element(By.ID,\"stats_\"+teamNum+\"_summary\")"
   ]
  },
  {
   "cell_type": "code",
   "execution_count": 104,
   "id": "faca9beb",
   "metadata": {},
   "outputs": [],
   "source": [
    "players = table.find_elements(By.XPATH,\"//tr\")"
   ]
  },
  {
   "cell_type": "code",
   "execution_count": 105,
   "id": "95e68ac4",
   "metadata": {},
   "outputs": [
    {
     "data": {
      "text/plain": [
       "326"
      ]
     },
     "execution_count": 105,
     "metadata": {},
     "output_type": "execute_result"
    }
   ],
   "source": [
    "len(players)"
   ]
  },
  {
   "cell_type": "code",
   "execution_count": 110,
   "id": "f7b0c665",
   "metadata": {},
   "outputs": [],
   "source": [
    "cnt=0\n",
    "ps = []\n",
    "for i in players:\n",
    "    num = i.get_attribute(\"data-row\")\n",
    "    if num and int(num)<12:\n",
    "        ps.append(i)\n",
    "        cnt+=1\n",
    "        if cnt >= 12:\n",
    "            break"
   ]
  },
  {
   "cell_type": "code",
   "execution_count": 93,
   "id": "6db3721b",
   "metadata": {},
   "outputs": [
    {
     "data": {
      "text/plain": [
       "12"
      ]
     },
     "execution_count": 93,
     "metadata": {},
     "output_type": "execute_result"
    }
   ],
   "source": [
    "int(table.find_element(By.XPATH,\"//tfoot\").find_element(By.CLASS_NAME,\"left\").get_attribute(\"innerHTML\").split()[0])"
   ]
  }
 ],
 "metadata": {
  "kernelspec": {
   "display_name": "Python 3 (ipykernel)",
   "language": "python",
   "name": "python3"
  },
  "language_info": {
   "codemirror_mode": {
    "name": "ipython",
    "version": 3
   },
   "file_extension": ".py",
   "mimetype": "text/x-python",
   "name": "python",
   "nbconvert_exporter": "python",
   "pygments_lexer": "ipython3",
   "version": "3.9.7"
  }
 },
 "nbformat": 4,
 "nbformat_minor": 5
}
